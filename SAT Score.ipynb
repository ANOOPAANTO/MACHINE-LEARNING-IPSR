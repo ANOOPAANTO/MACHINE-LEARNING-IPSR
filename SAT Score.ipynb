{
  "cells": [
    {
      "cell_type": "markdown",
      "source": [
        "# ============   Assignment 2  ============\n",
        "Data is recorded as minimum temperature and maximum temperatures from an area.\n",
        "Your task is to predict the maximum temperature taking input feature as minimum temperature\t\n"
      ],
      "metadata": {
        "nteract": {
          "transient": {
            "deleting": false
          }
        }
      }
    },
    {
      "cell_type": "markdown",
      "source": [
        "================================================================================"
      ],
      "metadata": {
        "nteract": {
          "transient": {
            "deleting": false
          }
        }
      }
    },
    {
      "cell_type": "markdown",
      "source": [
        "# TEMPERATURE PREDICTION"
      ],
      "metadata": {
        "nteract": {
          "transient": {
            "deleting": false
          }
        }
      }
    },
    {
      "cell_type": "markdown",
      "source": [
        "## 1.Importing Python Packages"
      ],
      "metadata": {
        "nteract": {
          "transient": {
            "deleting": false
          }
        }
      }
    },
    {
      "cell_type": "markdown",
      "source": [
        "#### a.Import numpy package for array operations"
      ],
      "metadata": {
        "nteract": {
          "transient": {
            "deleting": false
          }
        }
      }
    },
    {
      "cell_type": "code",
      "source": [
        "import numpy as np"
      ],
      "outputs": [],
      "execution_count": null,
      "metadata": {
        "collapsed": false,
        "jupyter": {
          "source_hidden": false,
          "outputs_hidden": false
        },
        "nteract": {
          "transient": {
            "deleting": false
          }
        },
        "execution": {
          "iopub.status.busy": "2020-04-22T15:54:23.220Z",
          "iopub.execute_input": "2020-04-22T15:54:23.225Z",
          "shell.execute_reply": "2020-04-22T15:54:23.192Z",
          "iopub.status.idle": "2020-04-22T15:54:23.230Z"
        }
      }
    },
    {
      "cell_type": "markdown",
      "source": [
        "#### b.Check if numpy importing is ok "
      ],
      "metadata": {
        "nteract": {
          "transient": {
            "deleting": false
          }
        }
      }
    },
    {
      "cell_type": "code",
      "source": [
        "print(np.__version__)"
      ],
      "outputs": [],
      "execution_count": null,
      "metadata": {
        "collapsed": false,
        "jupyter": {
          "source_hidden": false,
          "outputs_hidden": false
        },
        "nteract": {
          "transient": {
            "deleting": false
          }
        },
        "execution": {
          "iopub.status.busy": "2020-04-22T15:54:23.238Z",
          "iopub.execute_input": "2020-04-22T15:54:23.243Z",
          "iopub.status.idle": "2020-04-22T15:54:23.253Z",
          "shell.execute_reply": "2020-04-22T15:54:23.197Z"
        }
      }
    },
    {
      "cell_type": "markdown",
      "source": [
        "#### c.Import pandas package for data manipulations"
      ],
      "metadata": {
        "nteract": {
          "transient": {
            "deleting": false
          }
        }
      }
    },
    {
      "cell_type": "code",
      "source": [
        "import pandas as pd"
      ],
      "outputs": [],
      "execution_count": null,
      "metadata": {
        "collapsed": false,
        "jupyter": {
          "source_hidden": false,
          "outputs_hidden": false
        },
        "nteract": {
          "transient": {
            "deleting": false
          }
        },
        "execution": {
          "iopub.status.busy": "2020-04-22T15:54:23.261Z",
          "iopub.execute_input": "2020-04-22T15:54:23.265Z",
          "shell.execute_reply": "2020-04-22T15:54:23.359Z",
          "iopub.status.idle": "2020-04-22T15:54:23.379Z"
        }
      }
    },
    {
      "cell_type": "markdown",
      "source": [
        "#### d.Check if pandas importing is ok "
      ],
      "metadata": {
        "nteract": {
          "transient": {
            "deleting": false
          }
        }
      }
    },
    {
      "cell_type": "code",
      "source": [
        "print(pd.__version__)"
      ],
      "outputs": [],
      "execution_count": null,
      "metadata": {
        "collapsed": false,
        "jupyter": {
          "source_hidden": false,
          "outputs_hidden": false
        },
        "nteract": {
          "transient": {
            "deleting": false
          }
        },
        "execution": {
          "iopub.status.busy": "2020-04-22T15:54:23.390Z",
          "iopub.execute_input": "2020-04-22T15:54:23.397Z",
          "iopub.status.idle": "2020-04-22T15:54:23.408Z",
          "shell.execute_reply": "2020-04-22T15:54:23.363Z"
        }
      }
    },
    {
      "cell_type": "markdown",
      "source": [
        "#### e.Import sklearn package for machine learning algorithms"
      ],
      "metadata": {
        "nteract": {
          "transient": {
            "deleting": false
          }
        }
      }
    },
    {
      "cell_type": "code",
      "source": [
        "import sklearn"
      ],
      "outputs": [],
      "execution_count": null,
      "metadata": {
        "collapsed": false,
        "jupyter": {
          "source_hidden": false,
          "outputs_hidden": false
        },
        "nteract": {
          "transient": {
            "deleting": false
          }
        },
        "execution": {
          "iopub.status.busy": "2020-04-22T15:54:23.417Z",
          "iopub.execute_input": "2020-04-22T15:54:23.422Z",
          "shell.execute_reply": "2020-04-22T15:54:23.742Z",
          "iopub.status.idle": "2020-04-22T15:54:23.763Z"
        }
      }
    },
    {
      "cell_type": "markdown",
      "source": [
        "#### f.Check if sklearn importing is ok"
      ],
      "metadata": {
        "nteract": {
          "transient": {
            "deleting": false
          }
        }
      }
    },
    {
      "cell_type": "code",
      "source": [
        "print(sklearn.__version__)"
      ],
      "outputs": [],
      "execution_count": null,
      "metadata": {
        "collapsed": false,
        "jupyter": {
          "source_hidden": false,
          "outputs_hidden": false
        },
        "nteract": {
          "transient": {
            "deleting": false
          }
        },
        "execution": {
          "shell.execute_reply": "2020-04-22T15:54:23.745Z",
          "iopub.status.busy": "2020-04-22T15:54:23.771Z",
          "iopub.execute_input": "2020-04-22T15:54:23.776Z",
          "iopub.status.idle": "2020-04-22T15:54:23.785Z"
        }
      }
    },
    {
      "cell_type": "markdown",
      "source": [
        "================================================================================"
      ],
      "metadata": {
        "nteract": {
          "transient": {
            "deleting": false
          }
        }
      }
    },
    {
      "cell_type": "markdown",
      "source": [
        "## 2.Importing Data"
      ],
      "metadata": {
        "nteract": {
          "transient": {
            "deleting": false
          }
        }
      }
    },
    {
      "cell_type": "markdown",
      "source": [
        "#### a.Import using pandas read_csv function"
      ],
      "metadata": {
        "nteract": {
          "transient": {
            "deleting": false
          }
        }
      }
    },
    {
      "cell_type": "code",
      "source": [
        "data=pd.read_csv(\"SAT score.csv\")"
      ],
      "outputs": [],
      "execution_count": null,
      "metadata": {
        "collapsed": false,
        "jupyter": {
          "source_hidden": false,
          "outputs_hidden": false
        },
        "nteract": {
          "transient": {
            "deleting": false
          }
        },
        "execution": {
          "shell.execute_reply": "2020-04-22T15:54:23.751Z",
          "iopub.status.busy": "2020-04-22T15:54:23.793Z",
          "iopub.execute_input": "2020-04-22T15:54:23.799Z",
          "iopub.status.idle": "2020-04-22T15:54:23.805Z"
        }
      }
    },
    {
      "cell_type": "markdown",
      "source": [
        "#### b.Check if data importing is ok"
      ],
      "metadata": {
        "nteract": {
          "transient": {
            "deleting": false
          }
        }
      }
    },
    {
      "cell_type": "code",
      "source": [
        "data"
      ],
      "outputs": [],
      "execution_count": null,
      "metadata": {
        "collapsed": false,
        "jupyter": {
          "source_hidden": false,
          "outputs_hidden": false
        },
        "nteract": {
          "transient": {
            "deleting": false
          }
        },
        "execution": {
          "shell.execute_reply": "2020-04-22T15:54:24.144Z",
          "iopub.status.busy": "2020-04-22T15:54:23.814Z",
          "iopub.execute_input": "2020-04-22T15:54:23.819Z",
          "iopub.status.idle": "2020-04-22T15:54:23.838Z"
        }
      }
    },
    {
      "cell_type": "markdown",
      "source": [
        "================================================================================"
      ],
      "metadata": {
        "nteract": {
          "transient": {
            "deleting": false
          }
        }
      }
    },
    {
      "cell_type": "markdown",
      "source": [
        "## 3A. Store MinTemp data into input variable x"
      ],
      "metadata": {
        "nteract": {
          "transient": {
            "deleting": false
          }
        }
      }
    },
    {
      "cell_type": "code",
      "source": [
        "x=np.array(data['SAT']).reshape((-1,1))\n",
        "\n",
        "\n"
      ],
      "outputs": [],
      "execution_count": null,
      "metadata": {
        "collapsed": false,
        "jupyter": {
          "source_hidden": false,
          "outputs_hidden": false
        },
        "nteract": {
          "transient": {
            "deleting": false
          }
        },
        "execution": {
          "iopub.status.busy": "2020-04-22T15:54:23.849Z",
          "iopub.execute_input": "2020-04-22T15:54:23.854Z",
          "iopub.status.idle": "2020-04-22T15:54:23.861Z",
          "shell.execute_reply": "2020-04-22T15:54:24.147Z"
        }
      }
    },
    {
      "cell_type": "markdown",
      "source": [
        "### a. view input variable x"
      ],
      "metadata": {
        "nteract": {
          "transient": {
            "deleting": false
          }
        }
      }
    },
    {
      "cell_type": "code",
      "source": [
        "x"
      ],
      "outputs": [],
      "execution_count": null,
      "metadata": {
        "collapsed": false,
        "jupyter": {
          "source_hidden": false,
          "outputs_hidden": false
        },
        "nteract": {
          "transient": {
            "deleting": false
          }
        },
        "execution": {
          "shell.execute_reply": "2020-04-22T15:54:24.149Z",
          "iopub.status.busy": "2020-04-22T15:54:23.869Z",
          "iopub.execute_input": "2020-04-22T15:54:23.875Z",
          "iopub.status.idle": "2020-04-22T15:54:23.887Z"
        }
      }
    },
    {
      "cell_type": "markdown",
      "source": [
        "## 3B. Store MaxTemp data into output variable y"
      ],
      "metadata": {
        "nteract": {
          "transient": {
            "deleting": false
          }
        }
      }
    },
    {
      "cell_type": "code",
      "source": [
        "y=np.array(data['GPA'])\n"
      ],
      "outputs": [],
      "execution_count": null,
      "metadata": {
        "collapsed": false,
        "jupyter": {
          "source_hidden": false,
          "outputs_hidden": false
        },
        "nteract": {
          "transient": {
            "deleting": false
          }
        },
        "execution": {
          "shell.execute_reply": "2020-04-22T15:54:24.152Z",
          "iopub.status.busy": "2020-04-22T15:54:23.895Z",
          "iopub.execute_input": "2020-04-22T15:54:23.901Z",
          "iopub.status.idle": "2020-04-22T15:54:23.907Z"
        }
      }
    },
    {
      "cell_type": "markdown",
      "source": [
        "\n",
        "a. view output variable y"
      ],
      "metadata": {
        "nteract": {
          "transient": {
            "deleting": false
          }
        }
      }
    },
    {
      "cell_type": "code",
      "source": [
        "y"
      ],
      "outputs": [],
      "execution_count": null,
      "metadata": {
        "collapsed": false,
        "jupyter": {
          "source_hidden": false,
          "outputs_hidden": false
        },
        "nteract": {
          "transient": {
            "deleting": false
          }
        },
        "execution": {
          "shell.execute_reply": "2020-04-22T15:54:24.154Z",
          "iopub.status.busy": "2020-04-22T15:54:23.914Z",
          "iopub.execute_input": "2020-04-22T15:54:23.917Z",
          "iopub.status.idle": "2020-04-22T15:54:23.927Z"
        }
      }
    },
    {
      "cell_type": "markdown",
      "source": [
        "================================================================================"
      ],
      "metadata": {
        "nteract": {
          "transient": {
            "deleting": false
          }
        }
      }
    },
    {
      "cell_type": "markdown",
      "source": [
        "## 4.splitting data into training and testing"
      ],
      "metadata": {
        "nteract": {
          "transient": {
            "deleting": false
          }
        }
      }
    },
    {
      "cell_type": "markdown",
      "source": [
        "#### a.Importing train test split function"
      ],
      "metadata": {
        "nteract": {
          "transient": {
            "deleting": false
          }
        }
      }
    },
    {
      "cell_type": "code",
      "source": [
        "from sklearn.model_selection import train_test_split"
      ],
      "outputs": [],
      "execution_count": null,
      "metadata": {
        "collapsed": false,
        "jupyter": {
          "source_hidden": false,
          "outputs_hidden": false
        },
        "nteract": {
          "transient": {
            "deleting": false
          }
        },
        "execution": {
          "iopub.status.busy": "2020-04-22T15:54:23.933Z",
          "iopub.execute_input": "2020-04-22T15:54:23.938Z",
          "iopub.status.idle": "2020-04-22T15:54:23.944Z",
          "shell.execute_reply": "2020-04-22T15:54:24.157Z"
        }
      }
    },
    {
      "cell_type": "markdown",
      "source": [
        "#### b.applying train test split function on data"
      ],
      "metadata": {
        "nteract": {
          "transient": {
            "deleting": false
          }
        }
      }
    },
    {
      "cell_type": "code",
      "source": [
        "x_train,x_test,y_train,y_test=train_test_split(x,y,test_size=0.2)"
      ],
      "outputs": [],
      "execution_count": null,
      "metadata": {
        "collapsed": false,
        "jupyter": {
          "source_hidden": false,
          "outputs_hidden": false
        },
        "nteract": {
          "transient": {
            "deleting": false
          }
        },
        "execution": {
          "shell.execute_reply": "2020-04-22T15:54:24.160Z",
          "iopub.status.busy": "2020-04-22T15:54:23.949Z",
          "iopub.execute_input": "2020-04-22T15:54:23.953Z",
          "iopub.status.idle": "2020-04-22T15:54:23.959Z"
        }
      }
    },
    {
      "cell_type": "markdown",
      "source": [
        "================================================================================"
      ],
      "metadata": {
        "nteract": {
          "transient": {
            "deleting": false
          }
        }
      }
    },
    {
      "cell_type": "markdown",
      "source": [
        "## 5.Importing Machine Learning algorithm"
      ],
      "metadata": {
        "nteract": {
          "transient": {
            "deleting": false
          }
        }
      }
    },
    {
      "cell_type": "code",
      "source": [
        "from sklearn.linear_model import LinearRegression"
      ],
      "outputs": [],
      "execution_count": null,
      "metadata": {
        "collapsed": false,
        "jupyter": {
          "source_hidden": false,
          "outputs_hidden": false
        },
        "nteract": {
          "transient": {
            "deleting": false
          }
        },
        "execution": {
          "iopub.status.busy": "2020-04-22T15:54:23.966Z",
          "iopub.execute_input": "2020-04-22T15:54:23.970Z",
          "iopub.status.idle": "2020-04-22T15:54:23.976Z",
          "shell.execute_reply": "2020-04-22T15:54:24.163Z"
        }
      }
    },
    {
      "cell_type": "markdown",
      "source": [
        "================================================================================"
      ],
      "metadata": {
        "nteract": {
          "transient": {
            "deleting": false
          }
        }
      }
    },
    {
      "cell_type": "markdown",
      "source": [
        "## 6.Training using machine learning"
      ],
      "metadata": {
        "nteract": {
          "transient": {
            "deleting": false
          }
        }
      }
    },
    {
      "cell_type": "markdown",
      "source": [
        "### a. calling ml algorithm to model variable"
      ],
      "metadata": {
        "nteract": {
          "transient": {
            "deleting": false
          }
        }
      }
    },
    {
      "cell_type": "code",
      "source": [
        "model=LinearRegression()"
      ],
      "outputs": [],
      "execution_count": null,
      "metadata": {
        "collapsed": false,
        "jupyter": {
          "source_hidden": false,
          "outputs_hidden": false
        },
        "nteract": {
          "transient": {
            "deleting": false
          }
        },
        "execution": {
          "iopub.status.busy": "2020-04-22T15:54:23.982Z",
          "iopub.execute_input": "2020-04-22T15:54:23.986Z",
          "iopub.status.idle": "2020-04-22T15:54:23.992Z",
          "shell.execute_reply": "2020-04-22T15:54:24.165Z"
        }
      }
    },
    {
      "cell_type": "markdown",
      "source": [
        "### b. training ml algorithm "
      ],
      "metadata": {
        "nteract": {
          "transient": {
            "deleting": false
          }
        }
      }
    },
    {
      "cell_type": "code",
      "source": [
        "model.fit(x_train,y_train)"
      ],
      "outputs": [],
      "execution_count": null,
      "metadata": {
        "collapsed": false,
        "jupyter": {
          "source_hidden": false,
          "outputs_hidden": false
        },
        "nteract": {
          "transient": {
            "deleting": false
          }
        },
        "execution": {
          "iopub.status.busy": "2020-04-22T15:54:23.997Z",
          "iopub.execute_input": "2020-04-22T15:54:24.001Z",
          "iopub.status.idle": "2020-04-22T15:54:24.009Z",
          "shell.execute_reply": "2020-04-22T15:54:24.168Z"
        }
      }
    },
    {
      "cell_type": "markdown",
      "source": [
        "================================================================================"
      ],
      "metadata": {
        "nteract": {
          "transient": {
            "deleting": false
          }
        }
      }
    },
    {
      "cell_type": "markdown",
      "source": [
        "## 7.Making Predictions to test using test data"
      ],
      "metadata": {
        "nteract": {
          "transient": {
            "deleting": false
          }
        }
      }
    },
    {
      "cell_type": "code",
      "source": [
        "y_pred=model.predict(x_test)"
      ],
      "outputs": [],
      "execution_count": null,
      "metadata": {
        "collapsed": false,
        "jupyter": {
          "source_hidden": false,
          "outputs_hidden": false
        },
        "nteract": {
          "transient": {
            "deleting": false
          }
        },
        "execution": {
          "iopub.status.busy": "2020-04-22T15:54:24.016Z",
          "iopub.execute_input": "2020-04-22T15:54:24.020Z",
          "iopub.status.idle": "2020-04-22T15:54:24.026Z",
          "shell.execute_reply": "2020-04-22T15:54:24.170Z"
        }
      }
    },
    {
      "cell_type": "markdown",
      "source": [
        "================================================================================"
      ],
      "metadata": {
        "nteract": {
          "transient": {
            "deleting": false
          }
        }
      }
    },
    {
      "cell_type": "markdown",
      "source": [
        "## 8.Comparing predictions with available original data "
      ],
      "metadata": {
        "nteract": {
          "transient": {
            "deleting": false
          }
        }
      }
    },
    {
      "cell_type": "code",
      "source": [
        "print('Predicted GPA:',' '*10,'Original GPA')\n",
        "for i in range(1,10):\n",
        "    print(round(y_pred[i]),' '*29,round(y_test[i]))"
      ],
      "outputs": [],
      "execution_count": null,
      "metadata": {
        "collapsed": false,
        "jupyter": {
          "source_hidden": false,
          "outputs_hidden": false
        },
        "nteract": {
          "transient": {
            "deleting": false
          }
        },
        "execution": {
          "iopub.status.busy": "2020-04-22T15:54:24.032Z",
          "iopub.execute_input": "2020-04-22T15:54:24.036Z",
          "iopub.status.idle": "2020-04-22T15:54:24.045Z",
          "shell.execute_reply": "2020-04-22T15:54:24.172Z"
        }
      }
    },
    {
      "cell_type": "markdown",
      "source": [
        "================================================================================"
      ],
      "metadata": {
        "nteract": {
          "transient": {
            "deleting": false
          }
        }
      }
    },
    {
      "cell_type": "markdown",
      "source": [
        "## 9.Making new predictions with new input data "
      ],
      "metadata": {
        "nteract": {
          "transient": {
            "deleting": false
          }
        }
      }
    },
    {
      "cell_type": "code",
      "source": [
        "new_input=int(input(\"Enter value to input :\"))"
      ],
      "outputs": [],
      "execution_count": null,
      "metadata": {
        "collapsed": false,
        "jupyter": {
          "source_hidden": false,
          "outputs_hidden": false
        },
        "nteract": {
          "transient": {
            "deleting": false
          }
        },
        "execution": {
          "iopub.status.busy": "2020-04-22T15:54:24.050Z",
          "iopub.execute_input": "2020-04-22T15:54:24.054Z",
          "iopub.status.idle": "2020-04-22T15:54:37.218Z",
          "shell.execute_reply": "2020-04-22T15:54:37.202Z"
        }
      }
    },
    {
      "cell_type": "code",
      "source": [
        "new_pred=model.predict([[new_input]])"
      ],
      "outputs": [],
      "execution_count": null,
      "metadata": {
        "collapsed": false,
        "jupyter": {
          "source_hidden": false,
          "outputs_hidden": false
        },
        "nteract": {
          "transient": {
            "deleting": false
          }
        },
        "execution": {
          "iopub.status.busy": "2020-04-22T15:54:37.225Z",
          "iopub.execute_input": "2020-04-22T15:54:37.229Z",
          "iopub.status.idle": "2020-04-22T15:54:37.233Z",
          "shell.execute_reply": "2020-04-22T15:54:37.206Z"
        }
      }
    },
    {
      "cell_type": "code",
      "source": [
        "print(\" GPA of the SAT score of {} is => {} \".format(new_input,round(new_pred[0])))"
      ],
      "outputs": [],
      "execution_count": null,
      "metadata": {
        "collapsed": false,
        "jupyter": {
          "source_hidden": false,
          "outputs_hidden": false
        },
        "nteract": {
          "transient": {
            "deleting": false
          }
        },
        "execution": {
          "iopub.status.busy": "2020-04-22T15:54:37.240Z",
          "iopub.execute_input": "2020-04-22T15:54:37.244Z",
          "iopub.status.idle": "2020-04-22T15:54:37.253Z",
          "shell.execute_reply": "2020-04-22T15:54:37.262Z"
        }
      }
    }
  ],
  "metadata": {
    "kernel_info": {
      "name": "python3"
    },
    "language_info": {
      "name": "python",
      "version": "3.7.4",
      "mimetype": "text/x-python",
      "codemirror_mode": {
        "name": "ipython",
        "version": 3
      },
      "pygments_lexer": "ipython3",
      "nbconvert_exporter": "python",
      "file_extension": ".py"
    },
    "kernelspec": {
      "argv": [
        "python",
        "-m",
        "ipykernel_launcher",
        "-f",
        "{connection_file}"
      ],
      "display_name": "Python 3",
      "language": "python",
      "name": "python3"
    },
    "nteract": {
      "version": "0.22.4"
    }
  },
  "nbformat": 4,
  "nbformat_minor": 0
}