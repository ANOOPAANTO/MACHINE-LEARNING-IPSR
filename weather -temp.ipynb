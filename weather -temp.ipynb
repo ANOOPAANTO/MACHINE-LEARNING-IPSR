{
  "cells": [
    {
      "cell_type": "markdown",
      "source": [
        "# ============   Assignment 2  ============\n",
        "Data is recorded as minimum temperature and maximum temperatures from an area.\n",
        "Your task is to predict the maximum temperature taking input feature as minimum temperature\t\n"
      ],
      "metadata": {
        "nteract": {
          "transient": {
            "deleting": false
          }
        }
      }
    },
    {
      "cell_type": "markdown",
      "source": [
        "================================================================================"
      ],
      "metadata": {
        "nteract": {
          "transient": {
            "deleting": false
          }
        }
      }
    },
    {
      "cell_type": "markdown",
      "source": [
        "# TEMPERATURE PREDICTION"
      ],
      "metadata": {
        "nteract": {
          "transient": {
            "deleting": false
          }
        }
      }
    },
    {
      "cell_type": "markdown",
      "source": [
        "## 1.Importing Python Packages"
      ],
      "metadata": {
        "nteract": {
          "transient": {
            "deleting": false
          }
        }
      }
    },
    {
      "cell_type": "markdown",
      "source": [
        "#### a.Import numpy package for array operations"
      ],
      "metadata": {
        "nteract": {
          "transient": {
            "deleting": false
          }
        }
      }
    },
    {
      "cell_type": "code",
      "source": [
        "import numpy as np"
      ],
      "outputs": [],
      "execution_count": null,
      "metadata": {
        "collapsed": false,
        "jupyter": {
          "source_hidden": false,
          "outputs_hidden": false
        },
        "nteract": {
          "transient": {
            "deleting": false
          }
        },
        "execution": {
          "iopub.status.busy": "2020-04-22T15:29:35.914Z",
          "iopub.execute_input": "2020-04-22T15:29:35.919Z",
          "shell.execute_reply": "2020-04-22T15:29:35.831Z",
          "iopub.status.idle": "2020-04-22T15:29:35.923Z"
        }
      }
    },
    {
      "cell_type": "markdown",
      "source": [
        "#### b.Check if numpy importing is ok "
      ],
      "metadata": {
        "nteract": {
          "transient": {
            "deleting": false
          }
        }
      }
    },
    {
      "cell_type": "code",
      "source": [
        "print(np.__version__)"
      ],
      "outputs": [],
      "execution_count": null,
      "metadata": {
        "collapsed": false,
        "jupyter": {
          "source_hidden": false,
          "outputs_hidden": false
        },
        "nteract": {
          "transient": {
            "deleting": false
          }
        },
        "execution": {
          "iopub.status.busy": "2020-04-22T15:29:35.928Z",
          "iopub.execute_input": "2020-04-22T15:29:35.932Z",
          "iopub.status.idle": "2020-04-22T15:29:35.940Z",
          "shell.execute_reply": "2020-04-22T15:29:35.839Z"
        }
      }
    },
    {
      "cell_type": "markdown",
      "source": [
        "#### c.Import pandas package for data manipulations"
      ],
      "metadata": {
        "nteract": {
          "transient": {
            "deleting": false
          }
        }
      }
    },
    {
      "cell_type": "code",
      "source": [
        "import pandas as pd"
      ],
      "outputs": [],
      "execution_count": null,
      "metadata": {
        "collapsed": false,
        "jupyter": {
          "source_hidden": false,
          "outputs_hidden": false
        },
        "nteract": {
          "transient": {
            "deleting": false
          }
        },
        "execution": {
          "iopub.status.busy": "2020-04-22T15:29:35.947Z",
          "iopub.execute_input": "2020-04-22T15:29:35.951Z",
          "shell.execute_reply": "2020-04-22T15:29:35.845Z",
          "iopub.status.idle": "2020-04-22T15:29:35.957Z"
        }
      }
    },
    {
      "cell_type": "markdown",
      "source": [
        "#### d.Check if pandas importing is ok "
      ],
      "metadata": {
        "nteract": {
          "transient": {
            "deleting": false
          }
        }
      }
    },
    {
      "cell_type": "code",
      "source": [
        "print(pd.__version__)"
      ],
      "outputs": [],
      "execution_count": null,
      "metadata": {
        "collapsed": false,
        "jupyter": {
          "source_hidden": false,
          "outputs_hidden": false
        },
        "nteract": {
          "transient": {
            "deleting": false
          }
        },
        "execution": {
          "iopub.status.busy": "2020-04-22T15:29:35.963Z",
          "iopub.execute_input": "2020-04-22T15:29:35.968Z",
          "iopub.status.idle": "2020-04-22T15:29:35.975Z",
          "shell.execute_reply": "2020-04-22T15:29:35.849Z"
        }
      }
    },
    {
      "cell_type": "markdown",
      "source": [
        "#### e.Import sklearn package for machine learning algorithms"
      ],
      "metadata": {
        "nteract": {
          "transient": {
            "deleting": false
          }
        }
      }
    },
    {
      "cell_type": "code",
      "source": [
        "import sklearn"
      ],
      "outputs": [],
      "execution_count": null,
      "metadata": {
        "collapsed": false,
        "jupyter": {
          "source_hidden": false,
          "outputs_hidden": false
        },
        "nteract": {
          "transient": {
            "deleting": false
          }
        },
        "execution": {
          "iopub.status.busy": "2020-04-22T15:29:35.981Z",
          "iopub.execute_input": "2020-04-22T15:29:35.985Z",
          "shell.execute_reply": "2020-04-22T15:29:35.855Z",
          "iopub.status.idle": "2020-04-22T15:29:35.988Z"
        }
      }
    },
    {
      "cell_type": "markdown",
      "source": [
        "#### f.Check if sklearn importing is ok"
      ],
      "metadata": {
        "nteract": {
          "transient": {
            "deleting": false
          }
        }
      }
    },
    {
      "cell_type": "code",
      "source": [
        "print(sklearn.__version__)"
      ],
      "outputs": [],
      "execution_count": null,
      "metadata": {
        "collapsed": false,
        "jupyter": {
          "source_hidden": false,
          "outputs_hidden": false
        },
        "nteract": {
          "transient": {
            "deleting": false
          }
        },
        "execution": {
          "shell.execute_reply": "2020-04-22T15:29:35.859Z",
          "iopub.status.busy": "2020-04-22T15:29:35.993Z",
          "iopub.execute_input": "2020-04-22T15:29:35.997Z",
          "iopub.status.idle": "2020-04-22T15:29:36.002Z"
        }
      }
    },
    {
      "cell_type": "markdown",
      "source": [
        "================================================================================"
      ],
      "metadata": {
        "nteract": {
          "transient": {
            "deleting": false
          }
        }
      }
    },
    {
      "cell_type": "markdown",
      "source": [
        "## 2.Importing Data"
      ],
      "metadata": {
        "nteract": {
          "transient": {
            "deleting": false
          }
        }
      }
    },
    {
      "cell_type": "markdown",
      "source": [
        "#### a.Import using pandas read_csv function"
      ],
      "metadata": {
        "nteract": {
          "transient": {
            "deleting": false
          }
        }
      }
    },
    {
      "cell_type": "code",
      "source": [
        "data=pd.read_csv(\"Weathertemp.csv\")"
      ],
      "outputs": [],
      "execution_count": null,
      "metadata": {
        "collapsed": false,
        "jupyter": {
          "source_hidden": false,
          "outputs_hidden": false
        },
        "nteract": {
          "transient": {
            "deleting": false
          }
        },
        "execution": {
          "shell.execute_reply": "2020-04-22T15:29:35.863Z",
          "iopub.status.busy": "2020-04-22T15:29:36.006Z",
          "iopub.execute_input": "2020-04-22T15:29:36.010Z",
          "iopub.status.idle": "2020-04-22T15:29:36.013Z"
        }
      }
    },
    {
      "cell_type": "markdown",
      "source": [
        "#### b.Check if data importing is ok"
      ],
      "metadata": {
        "nteract": {
          "transient": {
            "deleting": false
          }
        }
      }
    },
    {
      "cell_type": "code",
      "source": [
        "data"
      ],
      "outputs": [],
      "execution_count": null,
      "metadata": {
        "collapsed": false,
        "jupyter": {
          "source_hidden": false,
          "outputs_hidden": false
        },
        "nteract": {
          "transient": {
            "deleting": false
          }
        },
        "execution": {
          "shell.execute_reply": "2020-04-22T15:29:35.867Z",
          "iopub.status.busy": "2020-04-22T15:29:36.019Z",
          "iopub.execute_input": "2020-04-22T15:29:36.021Z",
          "iopub.status.idle": "2020-04-22T15:29:36.028Z"
        }
      }
    },
    {
      "cell_type": "markdown",
      "source": [
        "================================================================================"
      ],
      "metadata": {
        "nteract": {
          "transient": {
            "deleting": false
          }
        }
      }
    },
    {
      "cell_type": "markdown",
      "source": [
        "## 3A. Store MinTemp data into input variable x"
      ],
      "metadata": {
        "nteract": {
          "transient": {
            "deleting": false
          }
        }
      }
    },
    {
      "cell_type": "code",
      "source": [
        "x=np.array(data['MinTemp']).reshape((-1,1))\n",
        "\n",
        "\n"
      ],
      "outputs": [],
      "execution_count": null,
      "metadata": {
        "collapsed": false,
        "jupyter": {
          "source_hidden": false,
          "outputs_hidden": false
        },
        "nteract": {
          "transient": {
            "deleting": false
          }
        },
        "execution": {
          "iopub.status.busy": "2020-04-22T15:29:36.033Z",
          "iopub.execute_input": "2020-04-22T15:29:36.037Z",
          "iopub.status.idle": "2020-04-22T15:29:36.042Z",
          "shell.execute_reply": "2020-04-22T15:29:35.872Z"
        }
      }
    },
    {
      "cell_type": "markdown",
      "source": [
        "### a. view input variable x"
      ],
      "metadata": {
        "nteract": {
          "transient": {
            "deleting": false
          }
        }
      }
    },
    {
      "cell_type": "code",
      "source": [
        "x"
      ],
      "outputs": [],
      "execution_count": null,
      "metadata": {
        "collapsed": false,
        "jupyter": {
          "source_hidden": false,
          "outputs_hidden": false
        },
        "nteract": {
          "transient": {
            "deleting": false
          }
        },
        "execution": {
          "shell.execute_reply": "2020-04-22T15:29:35.876Z",
          "iopub.status.busy": "2020-04-22T15:29:36.046Z",
          "iopub.execute_input": "2020-04-22T15:29:36.050Z",
          "iopub.status.idle": "2020-04-22T15:29:36.057Z"
        }
      }
    },
    {
      "cell_type": "markdown",
      "source": [
        "## 3B. Store MaxTemp data into output variable y"
      ],
      "metadata": {
        "nteract": {
          "transient": {
            "deleting": false
          }
        }
      }
    },
    {
      "cell_type": "code",
      "source": [
        "y=np.array(data['MaxTemp'])\n"
      ],
      "outputs": [],
      "execution_count": null,
      "metadata": {
        "collapsed": false,
        "jupyter": {
          "source_hidden": false,
          "outputs_hidden": false
        },
        "nteract": {
          "transient": {
            "deleting": false
          }
        },
        "execution": {
          "shell.execute_reply": "2020-04-22T15:29:35.881Z",
          "iopub.status.busy": "2020-04-22T15:29:36.063Z",
          "iopub.execute_input": "2020-04-22T15:29:36.066Z",
          "iopub.status.idle": "2020-04-22T15:29:36.070Z"
        }
      }
    },
    {
      "cell_type": "markdown",
      "source": [
        "\n",
        "a. view output variable y"
      ],
      "metadata": {
        "nteract": {
          "transient": {
            "deleting": false
          }
        }
      }
    },
    {
      "cell_type": "code",
      "source": [
        "y"
      ],
      "outputs": [],
      "execution_count": null,
      "metadata": {
        "collapsed": false,
        "jupyter": {
          "source_hidden": false,
          "outputs_hidden": false
        },
        "nteract": {
          "transient": {
            "deleting": false
          }
        },
        "execution": {
          "shell.execute_reply": "2020-04-22T15:29:35.885Z",
          "iopub.status.busy": "2020-04-22T15:29:36.075Z",
          "iopub.execute_input": "2020-04-22T15:29:36.078Z",
          "iopub.status.idle": "2020-04-22T15:29:36.084Z"
        }
      }
    },
    {
      "cell_type": "markdown",
      "source": [
        "================================================================================"
      ],
      "metadata": {
        "nteract": {
          "transient": {
            "deleting": false
          }
        }
      }
    },
    {
      "cell_type": "markdown",
      "source": [
        "## 4.splitting data into training and testing"
      ],
      "metadata": {
        "nteract": {
          "transient": {
            "deleting": false
          }
        }
      }
    },
    {
      "cell_type": "markdown",
      "source": [
        "#### a.Importing train test split function"
      ],
      "metadata": {
        "nteract": {
          "transient": {
            "deleting": false
          }
        }
      }
    },
    {
      "cell_type": "code",
      "source": [
        "from sklearn.model_selection import train_test_split"
      ],
      "outputs": [],
      "execution_count": null,
      "metadata": {
        "collapsed": false,
        "jupyter": {
          "source_hidden": false,
          "outputs_hidden": false
        },
        "nteract": {
          "transient": {
            "deleting": false
          }
        },
        "execution": {
          "iopub.status.busy": "2020-04-22T15:29:36.088Z",
          "iopub.execute_input": "2020-04-22T15:29:36.091Z",
          "iopub.status.idle": "2020-04-22T15:29:36.095Z",
          "shell.execute_reply": "2020-04-22T15:29:35.889Z"
        }
      }
    },
    {
      "cell_type": "markdown",
      "source": [
        "#### b.applying train test split function on data"
      ],
      "metadata": {
        "nteract": {
          "transient": {
            "deleting": false
          }
        }
      }
    },
    {
      "cell_type": "code",
      "source": [
        "x_train,x_test,y_train,y_test=train_test_split(x,y,test_size=0.2)"
      ],
      "outputs": [],
      "execution_count": null,
      "metadata": {
        "collapsed": false,
        "jupyter": {
          "source_hidden": false,
          "outputs_hidden": false
        },
        "nteract": {
          "transient": {
            "deleting": false
          }
        },
        "execution": {
          "shell.execute_reply": "2020-04-22T15:29:35.892Z",
          "iopub.status.busy": "2020-04-22T15:29:36.099Z",
          "iopub.execute_input": "2020-04-22T15:29:36.102Z",
          "iopub.status.idle": "2020-04-22T15:29:36.106Z"
        }
      }
    },
    {
      "cell_type": "markdown",
      "source": [
        "================================================================================"
      ],
      "metadata": {
        "nteract": {
          "transient": {
            "deleting": false
          }
        }
      }
    },
    {
      "cell_type": "markdown",
      "source": [
        "## 5.Importing Machine Learning algorithm"
      ],
      "metadata": {
        "nteract": {
          "transient": {
            "deleting": false
          }
        }
      }
    },
    {
      "cell_type": "code",
      "source": [
        "from sklearn.linear_model import LinearRegression"
      ],
      "outputs": [],
      "execution_count": null,
      "metadata": {
        "collapsed": false,
        "jupyter": {
          "source_hidden": false,
          "outputs_hidden": false
        },
        "nteract": {
          "transient": {
            "deleting": false
          }
        },
        "execution": {
          "iopub.status.busy": "2020-04-22T15:29:36.111Z",
          "iopub.execute_input": "2020-04-22T15:29:36.114Z",
          "iopub.status.idle": "2020-04-22T15:29:36.119Z",
          "shell.execute_reply": "2020-04-22T15:29:36.203Z"
        }
      }
    },
    {
      "cell_type": "markdown",
      "source": [
        "================================================================================"
      ],
      "metadata": {
        "nteract": {
          "transient": {
            "deleting": false
          }
        }
      }
    },
    {
      "cell_type": "markdown",
      "source": [
        "## 6.Training using machine learning"
      ],
      "metadata": {
        "nteract": {
          "transient": {
            "deleting": false
          }
        }
      }
    },
    {
      "cell_type": "markdown",
      "source": [
        "### a. calling ml algorithm to model variable"
      ],
      "metadata": {
        "nteract": {
          "transient": {
            "deleting": false
          }
        }
      }
    },
    {
      "cell_type": "code",
      "source": [
        "model=LinearRegression()"
      ],
      "outputs": [],
      "execution_count": null,
      "metadata": {
        "collapsed": false,
        "jupyter": {
          "source_hidden": false,
          "outputs_hidden": false
        },
        "nteract": {
          "transient": {
            "deleting": false
          }
        },
        "execution": {
          "iopub.status.busy": "2020-04-22T15:29:36.124Z",
          "iopub.execute_input": "2020-04-22T15:29:36.127Z",
          "iopub.status.idle": "2020-04-22T15:29:36.132Z",
          "shell.execute_reply": "2020-04-22T15:29:36.207Z"
        }
      }
    },
    {
      "cell_type": "markdown",
      "source": [
        "### b. training ml algorithm "
      ],
      "metadata": {
        "nteract": {
          "transient": {
            "deleting": false
          }
        }
      }
    },
    {
      "cell_type": "code",
      "source": [
        "model.fit(x_train,y_train)"
      ],
      "outputs": [],
      "execution_count": null,
      "metadata": {
        "collapsed": false,
        "jupyter": {
          "source_hidden": false,
          "outputs_hidden": false
        },
        "nteract": {
          "transient": {
            "deleting": false
          }
        },
        "execution": {
          "iopub.status.busy": "2020-04-22T15:29:36.137Z",
          "iopub.execute_input": "2020-04-22T15:29:36.140Z",
          "iopub.status.idle": "2020-04-22T15:29:36.147Z",
          "shell.execute_reply": "2020-04-22T15:29:36.210Z"
        }
      }
    },
    {
      "cell_type": "markdown",
      "source": [
        "================================================================================"
      ],
      "metadata": {
        "nteract": {
          "transient": {
            "deleting": false
          }
        }
      }
    },
    {
      "cell_type": "markdown",
      "source": [
        "## 7.Making Predictions to test using test data"
      ],
      "metadata": {
        "nteract": {
          "transient": {
            "deleting": false
          }
        }
      }
    },
    {
      "cell_type": "code",
      "source": [
        "y_pred=model.predict(x_test)"
      ],
      "outputs": [],
      "execution_count": null,
      "metadata": {
        "collapsed": false,
        "jupyter": {
          "source_hidden": false,
          "outputs_hidden": false
        },
        "nteract": {
          "transient": {
            "deleting": false
          }
        },
        "execution": {
          "iopub.status.busy": "2020-04-22T15:29:36.152Z",
          "iopub.execute_input": "2020-04-22T15:29:36.155Z",
          "iopub.status.idle": "2020-04-22T15:29:36.159Z",
          "shell.execute_reply": "2020-04-22T15:29:36.212Z"
        }
      }
    },
    {
      "cell_type": "markdown",
      "source": [
        "================================================================================"
      ],
      "metadata": {
        "nteract": {
          "transient": {
            "deleting": false
          }
        }
      }
    },
    {
      "cell_type": "markdown",
      "source": [
        "## 8.Comparing predictions with available original data "
      ],
      "metadata": {
        "nteract": {
          "transient": {
            "deleting": false
          }
        }
      }
    },
    {
      "cell_type": "code",
      "source": [
        "print('Predicted MaxTemp:',' '*10,'Original MaxTemp')\n",
        "for i in range(1,10):\n",
        "    print(round(y_pred[i]),' '*29,round(y_test[i]))"
      ],
      "outputs": [],
      "execution_count": null,
      "metadata": {
        "collapsed": false,
        "jupyter": {
          "source_hidden": false,
          "outputs_hidden": false
        },
        "nteract": {
          "transient": {
            "deleting": false
          }
        },
        "execution": {
          "iopub.status.busy": "2020-04-22T15:37:15.466Z",
          "iopub.execute_input": "2020-04-22T15:37:15.470Z",
          "iopub.status.idle": "2020-04-22T15:37:15.481Z",
          "shell.execute_reply": "2020-04-22T15:37:15.486Z"
        }
      }
    },
    {
      "cell_type": "markdown",
      "source": [
        "================================================================================"
      ],
      "metadata": {
        "nteract": {
          "transient": {
            "deleting": false
          }
        }
      }
    },
    {
      "cell_type": "markdown",
      "source": [
        "## 9.Making new predictions with new input data "
      ],
      "metadata": {
        "nteract": {
          "transient": {
            "deleting": false
          }
        }
      }
    },
    {
      "cell_type": "code",
      "source": [
        "new_input=int(input(\"Enter value to input :\"))"
      ],
      "outputs": [],
      "execution_count": null,
      "metadata": {
        "collapsed": false,
        "jupyter": {
          "source_hidden": false,
          "outputs_hidden": false
        },
        "nteract": {
          "transient": {
            "deleting": false
          }
        },
        "execution": {
          "iopub.status.busy": "2020-04-22T15:37:31.186Z",
          "iopub.execute_input": "2020-04-22T15:37:31.190Z",
          "iopub.status.idle": "2020-04-22T15:37:33.619Z",
          "shell.execute_reply": "2020-04-22T15:37:33.611Z"
        }
      }
    },
    {
      "cell_type": "code",
      "source": [
        "new_pred=model.predict([[new_input]])"
      ],
      "outputs": [],
      "execution_count": null,
      "metadata": {
        "collapsed": false,
        "jupyter": {
          "source_hidden": false,
          "outputs_hidden": false
        },
        "nteract": {
          "transient": {
            "deleting": false
          }
        },
        "execution": {
          "iopub.status.busy": "2020-04-22T15:37:37.916Z",
          "iopub.execute_input": "2020-04-22T15:37:37.922Z",
          "iopub.status.idle": "2020-04-22T15:37:37.929Z",
          "shell.execute_reply": "2020-04-22T15:37:37.933Z"
        }
      }
    },
    {
      "cell_type": "code",
      "source": [
        "print(\" Max temperture of the area for a mintemp of {} is => {} \".format(new_input,round(new_pred[0])))"
      ],
      "outputs": [],
      "execution_count": null,
      "metadata": {
        "collapsed": false,
        "jupyter": {
          "source_hidden": false,
          "outputs_hidden": false
        },
        "nteract": {
          "transient": {
            "deleting": false
          }
        },
        "execution": {
          "iopub.status.busy": "2020-04-22T15:42:37.329Z",
          "iopub.execute_input": "2020-04-22T15:42:37.334Z",
          "iopub.status.idle": "2020-04-22T15:42:37.342Z",
          "shell.execute_reply": "2020-04-22T15:42:37.346Z"
        }
      }
    }
  ],
  "metadata": {
    "kernel_info": {
      "name": "python3"
    },
    "language_info": {
      "name": "python",
      "version": "3.7.4",
      "mimetype": "text/x-python",
      "codemirror_mode": {
        "name": "ipython",
        "version": 3
      },
      "pygments_lexer": "ipython3",
      "nbconvert_exporter": "python",
      "file_extension": ".py"
    },
    "kernelspec": {
      "argv": [
        "python",
        "-m",
        "ipykernel_launcher",
        "-f",
        "{connection_file}"
      ],
      "display_name": "Python 3",
      "language": "python",
      "name": "python3"
    },
    "nteract": {
      "version": "0.22.4"
    }
  },
  "nbformat": 4,
  "nbformat_minor": 0
}