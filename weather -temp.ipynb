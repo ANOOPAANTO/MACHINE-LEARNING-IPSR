{
  "cells": [
    {
      "cell_type": "markdown",
      "source": [
        "# TEMPERATURE PREDICTION"
      ],
      "metadata": {
        "nteract": {
          "transient": {
            "deleting": false
          }
        }
      }
    },
    {
      "cell_type": "markdown",
      "source": [
        "## 1.Importing Python Packages"
      ],
      "metadata": {
        "nteract": {
          "transient": {
            "deleting": false
          }
        }
      }
    },
    {
      "cell_type": "markdown",
      "source": [
        "#### a.Import numpy package for array operations"
      ],
      "metadata": {
        "nteract": {
          "transient": {
            "deleting": false
          }
        }
      }
    },
    {
      "cell_type": "code",
      "source": [
        "import numpy as np"
      ],
      "outputs": [],
      "execution_count": 9,
      "metadata": {
        "collapsed": false,
        "jupyter": {
          "source_hidden": false,
          "outputs_hidden": false
        },
        "nteract": {
          "transient": {
            "deleting": false
          }
        },
        "execution": {
          "iopub.status.busy": "2020-04-22T15:29:35.914Z",
          "iopub.execute_input": "2020-04-22T15:29:35.919Z",
          "shell.execute_reply": "2020-04-22T15:29:35.831Z",
          "iopub.status.idle": "2020-04-22T15:29:35.923Z"
        }
      }
    },
    {
      "cell_type": "markdown",
      "source": [
        "#### b.Check if numpy importing is ok "
      ],
      "metadata": {
        "nteract": {
          "transient": {
            "deleting": false
          }
        }
      }
    },
    {
      "cell_type": "code",
      "source": [
        "print(np.__version__)"
      ],
      "outputs": [
        {
          "output_type": "stream",
          "name": "stdout",
          "text": [
            "1.18.1\n"
          ]
        }
      ],
      "execution_count": 10,
      "metadata": {
        "collapsed": false,
        "jupyter": {
          "source_hidden": false,
          "outputs_hidden": false
        },
        "nteract": {
          "transient": {
            "deleting": false
          }
        },
        "execution": {
          "iopub.status.busy": "2020-04-22T15:29:35.928Z",
          "iopub.execute_input": "2020-04-22T15:29:35.932Z",
          "iopub.status.idle": "2020-04-22T15:29:35.940Z",
          "shell.execute_reply": "2020-04-22T15:29:35.839Z"
        }
      }
    },
    {
      "cell_type": "markdown",
      "source": [
        "#### c.Import pandas package for data manipulations"
      ],
      "metadata": {
        "nteract": {
          "transient": {
            "deleting": false
          }
        }
      }
    },
    {
      "cell_type": "code",
      "source": [
        "import pandas as pd"
      ],
      "outputs": [],
      "execution_count": 11,
      "metadata": {
        "collapsed": false,
        "jupyter": {
          "source_hidden": false,
          "outputs_hidden": false
        },
        "nteract": {
          "transient": {
            "deleting": false
          }
        },
        "execution": {
          "iopub.status.busy": "2020-04-22T15:29:35.947Z",
          "iopub.execute_input": "2020-04-22T15:29:35.951Z",
          "shell.execute_reply": "2020-04-22T15:29:35.845Z",
          "iopub.status.idle": "2020-04-22T15:29:35.957Z"
        }
      }
    },
    {
      "cell_type": "markdown",
      "source": [
        "#### d.Check if pandas importing is ok "
      ],
      "metadata": {
        "nteract": {
          "transient": {
            "deleting": false
          }
        }
      }
    },
    {
      "cell_type": "code",
      "source": [
        "print(pd.__version__)"
      ],
      "outputs": [
        {
          "output_type": "stream",
          "name": "stdout",
          "text": [
            "1.0.1\n"
          ]
        }
      ],
      "execution_count": 12,
      "metadata": {
        "collapsed": false,
        "jupyter": {
          "source_hidden": false,
          "outputs_hidden": false
        },
        "nteract": {
          "transient": {
            "deleting": false
          }
        },
        "execution": {
          "iopub.status.busy": "2020-04-22T15:29:35.963Z",
          "iopub.execute_input": "2020-04-22T15:29:35.968Z",
          "iopub.status.idle": "2020-04-22T15:29:35.975Z",
          "shell.execute_reply": "2020-04-22T15:29:35.849Z"
        }
      }
    },
    {
      "cell_type": "markdown",
      "source": [
        "#### e.Import sklearn package for machine learning algorithms"
      ],
      "metadata": {
        "nteract": {
          "transient": {
            "deleting": false
          }
        }
      }
    },
    {
      "cell_type": "code",
      "source": [
        "import sklearn"
      ],
      "outputs": [],
      "execution_count": 13,
      "metadata": {
        "collapsed": false,
        "jupyter": {
          "source_hidden": false,
          "outputs_hidden": false
        },
        "nteract": {
          "transient": {
            "deleting": false
          }
        },
        "execution": {
          "iopub.status.busy": "2020-04-22T15:29:35.981Z",
          "iopub.execute_input": "2020-04-22T15:29:35.985Z",
          "shell.execute_reply": "2020-04-22T15:29:35.855Z",
          "iopub.status.idle": "2020-04-22T15:29:35.988Z"
        }
      }
    },
    {
      "cell_type": "markdown",
      "source": [
        "#### f.Check if sklearn importing is ok"
      ],
      "metadata": {
        "nteract": {
          "transient": {
            "deleting": false
          }
        }
      }
    },
    {
      "cell_type": "code",
      "source": [
        "print(sklearn.__version__)"
      ],
      "outputs": [
        {
          "output_type": "stream",
          "name": "stdout",
          "text": [
            "0.22.2.post1\n"
          ]
        }
      ],
      "execution_count": 14,
      "metadata": {
        "collapsed": false,
        "jupyter": {
          "source_hidden": false,
          "outputs_hidden": false
        },
        "nteract": {
          "transient": {
            "deleting": false
          }
        },
        "execution": {
          "shell.execute_reply": "2020-04-22T15:29:35.859Z",
          "iopub.status.busy": "2020-04-22T15:29:35.993Z",
          "iopub.execute_input": "2020-04-22T15:29:35.997Z",
          "iopub.status.idle": "2020-04-22T15:29:36.002Z"
        }
      }
    },
    {
      "cell_type": "markdown",
      "source": [
        "================================================================================"
      ],
      "metadata": {
        "nteract": {
          "transient": {
            "deleting": false
          }
        }
      }
    },
    {
      "cell_type": "markdown",
      "source": [
        "## 2.Importing Data"
      ],
      "metadata": {
        "nteract": {
          "transient": {
            "deleting": false
          }
        }
      }
    },
    {
      "cell_type": "markdown",
      "source": [
        "#### a.Import using pandas read_csv function"
      ],
      "metadata": {
        "nteract": {
          "transient": {
            "deleting": false
          }
        }
      }
    },
    {
      "cell_type": "code",
      "source": [
        "data=pd.read_csv(\"Weathertemp.csv\")"
      ],
      "outputs": [],
      "execution_count": 15,
      "metadata": {
        "collapsed": false,
        "jupyter": {
          "source_hidden": false,
          "outputs_hidden": false
        },
        "nteract": {
          "transient": {
            "deleting": false
          }
        },
        "execution": {
          "shell.execute_reply": "2020-04-22T15:29:35.863Z",
          "iopub.status.busy": "2020-04-22T15:29:36.006Z",
          "iopub.execute_input": "2020-04-22T15:29:36.010Z",
          "iopub.status.idle": "2020-04-22T15:29:36.013Z"
        }
      }
    },
    {
      "cell_type": "markdown",
      "source": [
        "#### b.Check if data importing is ok"
      ],
      "metadata": {
        "nteract": {
          "transient": {
            "deleting": false
          }
        }
      }
    },
    {
      "cell_type": "code",
      "source": [
        "data"
      ],
      "outputs": [
        {
          "output_type": "execute_result",
          "execution_count": 16,
          "data": {
            "text/plain": [
              "              Date    MaxTemp    MinTemp\n",
              "0         7/1/1942  25.555556  22.222222\n",
              "1         7/2/1942  28.888889  21.666667\n",
              "2         7/3/1942  26.111111  22.222222\n",
              "3         7/4/1942  26.666667  22.222222\n",
              "4         7/5/1942  26.666667  21.666667\n",
              "...            ...        ...        ...\n",
              "119035  12/27/1945  28.333333  18.333333\n",
              "119036  12/28/1945  29.444444  18.333333\n",
              "119037  12/29/1945  28.333333  18.333333\n",
              "119038  12/30/1945  28.333333  18.333333\n",
              "119039  12/31/1945  29.444444  17.222222\n",
              "\n",
              "[119040 rows x 3 columns]"
            ],
            "text/html": [
              "<div>\n",
              "<style scoped>\n",
              "    .dataframe tbody tr th:only-of-type {\n",
              "        vertical-align: middle;\n",
              "    }\n",
              "\n",
              "    .dataframe tbody tr th {\n",
              "        vertical-align: top;\n",
              "    }\n",
              "\n",
              "    .dataframe thead th {\n",
              "        text-align: right;\n",
              "    }\n",
              "</style>\n",
              "<table border=\"1\" class=\"dataframe\">\n",
              "  <thead>\n",
              "    <tr style=\"text-align: right;\">\n",
              "      <th></th>\n",
              "      <th>Date</th>\n",
              "      <th>MaxTemp</th>\n",
              "      <th>MinTemp</th>\n",
              "    </tr>\n",
              "  </thead>\n",
              "  <tbody>\n",
              "    <tr>\n",
              "      <th>0</th>\n",
              "      <td>7/1/1942</td>\n",
              "      <td>25.555556</td>\n",
              "      <td>22.222222</td>\n",
              "    </tr>\n",
              "    <tr>\n",
              "      <th>1</th>\n",
              "      <td>7/2/1942</td>\n",
              "      <td>28.888889</td>\n",
              "      <td>21.666667</td>\n",
              "    </tr>\n",
              "    <tr>\n",
              "      <th>2</th>\n",
              "      <td>7/3/1942</td>\n",
              "      <td>26.111111</td>\n",
              "      <td>22.222222</td>\n",
              "    </tr>\n",
              "    <tr>\n",
              "      <th>3</th>\n",
              "      <td>7/4/1942</td>\n",
              "      <td>26.666667</td>\n",
              "      <td>22.222222</td>\n",
              "    </tr>\n",
              "    <tr>\n",
              "      <th>4</th>\n",
              "      <td>7/5/1942</td>\n",
              "      <td>26.666667</td>\n",
              "      <td>21.666667</td>\n",
              "    </tr>\n",
              "    <tr>\n",
              "      <th>...</th>\n",
              "      <td>...</td>\n",
              "      <td>...</td>\n",
              "      <td>...</td>\n",
              "    </tr>\n",
              "    <tr>\n",
              "      <th>119035</th>\n",
              "      <td>12/27/1945</td>\n",
              "      <td>28.333333</td>\n",
              "      <td>18.333333</td>\n",
              "    </tr>\n",
              "    <tr>\n",
              "      <th>119036</th>\n",
              "      <td>12/28/1945</td>\n",
              "      <td>29.444444</td>\n",
              "      <td>18.333333</td>\n",
              "    </tr>\n",
              "    <tr>\n",
              "      <th>119037</th>\n",
              "      <td>12/29/1945</td>\n",
              "      <td>28.333333</td>\n",
              "      <td>18.333333</td>\n",
              "    </tr>\n",
              "    <tr>\n",
              "      <th>119038</th>\n",
              "      <td>12/30/1945</td>\n",
              "      <td>28.333333</td>\n",
              "      <td>18.333333</td>\n",
              "    </tr>\n",
              "    <tr>\n",
              "      <th>119039</th>\n",
              "      <td>12/31/1945</td>\n",
              "      <td>29.444444</td>\n",
              "      <td>17.222222</td>\n",
              "    </tr>\n",
              "  </tbody>\n",
              "</table>\n",
              "<p>119040 rows × 3 columns</p>\n",
              "</div>"
            ]
          },
          "metadata": {}
        }
      ],
      "execution_count": 16,
      "metadata": {
        "collapsed": false,
        "jupyter": {
          "source_hidden": false,
          "outputs_hidden": false
        },
        "nteract": {
          "transient": {
            "deleting": false
          }
        },
        "execution": {
          "shell.execute_reply": "2020-04-22T15:29:35.867Z",
          "iopub.status.busy": "2020-04-22T15:29:36.019Z",
          "iopub.execute_input": "2020-04-22T15:29:36.021Z",
          "iopub.status.idle": "2020-04-22T15:29:36.028Z"
        }
      }
    },
    {
      "cell_type": "markdown",
      "source": [
        "## 3. Store MinTemp data into input variable x"
      ],
      "metadata": {
        "nteract": {
          "transient": {
            "deleting": false
          }
        }
      }
    },
    {
      "cell_type": "code",
      "source": [
        "x=np.array(data['MinTemp']).reshape((-1,1))\n",
        "\n",
        "\n"
      ],
      "outputs": [],
      "execution_count": 17,
      "metadata": {
        "collapsed": false,
        "jupyter": {
          "source_hidden": false,
          "outputs_hidden": false
        },
        "nteract": {
          "transient": {
            "deleting": false
          }
        },
        "execution": {
          "iopub.status.busy": "2020-04-22T15:29:36.033Z",
          "iopub.execute_input": "2020-04-22T15:29:36.037Z",
          "iopub.status.idle": "2020-04-22T15:29:36.042Z",
          "shell.execute_reply": "2020-04-22T15:29:35.872Z"
        }
      }
    },
    {
      "cell_type": "markdown",
      "source": [
        "### a. view input variable x"
      ],
      "metadata": {
        "nteract": {
          "transient": {
            "deleting": false
          }
        }
      }
    },
    {
      "cell_type": "code",
      "source": [
        "x"
      ],
      "outputs": [
        {
          "output_type": "execute_result",
          "execution_count": 18,
          "data": {
            "text/plain": [
              "array([[22.22222222],\n",
              "       [21.66666667],\n",
              "       [22.22222222],\n",
              "       ...,\n",
              "       [18.33333333],\n",
              "       [18.33333333],\n",
              "       [17.22222222]])"
            ]
          },
          "metadata": {}
        }
      ],
      "execution_count": 18,
      "metadata": {
        "collapsed": false,
        "jupyter": {
          "source_hidden": false,
          "outputs_hidden": false
        },
        "nteract": {
          "transient": {
            "deleting": false
          }
        },
        "execution": {
          "shell.execute_reply": "2020-04-22T15:29:35.876Z",
          "iopub.status.busy": "2020-04-22T15:29:36.046Z",
          "iopub.execute_input": "2020-04-22T15:29:36.050Z",
          "iopub.status.idle": "2020-04-22T15:29:36.057Z"
        }
      }
    },
    {
      "cell_type": "markdown",
      "source": [
        "## 3. Store MaxTemp data into output variable y"
      ],
      "metadata": {
        "nteract": {
          "transient": {
            "deleting": false
          }
        }
      }
    },
    {
      "cell_type": "code",
      "source": [
        "y=np.array(data['MaxTemp'])\n"
      ],
      "outputs": [],
      "execution_count": 19,
      "metadata": {
        "collapsed": false,
        "jupyter": {
          "source_hidden": false,
          "outputs_hidden": false
        },
        "nteract": {
          "transient": {
            "deleting": false
          }
        },
        "execution": {
          "shell.execute_reply": "2020-04-22T15:29:35.881Z",
          "iopub.status.busy": "2020-04-22T15:29:36.063Z",
          "iopub.execute_input": "2020-04-22T15:29:36.066Z",
          "iopub.status.idle": "2020-04-22T15:29:36.070Z"
        }
      }
    },
    {
      "cell_type": "markdown",
      "source": [
        "\n",
        "a. view output variable y"
      ],
      "metadata": {
        "nteract": {
          "transient": {
            "deleting": false
          }
        }
      }
    },
    {
      "cell_type": "code",
      "source": [
        "y"
      ],
      "outputs": [
        {
          "output_type": "execute_result",
          "execution_count": 20,
          "data": {
            "text/plain": [
              "array([25.55555556, 28.88888889, 26.11111111, ..., 28.33333333,\n",
              "       28.33333333, 29.44444444])"
            ]
          },
          "metadata": {}
        }
      ],
      "execution_count": 20,
      "metadata": {
        "collapsed": false,
        "jupyter": {
          "source_hidden": false,
          "outputs_hidden": false
        },
        "nteract": {
          "transient": {
            "deleting": false
          }
        },
        "execution": {
          "shell.execute_reply": "2020-04-22T15:29:35.885Z",
          "iopub.status.busy": "2020-04-22T15:29:36.075Z",
          "iopub.execute_input": "2020-04-22T15:29:36.078Z",
          "iopub.status.idle": "2020-04-22T15:29:36.084Z"
        }
      }
    },
    {
      "cell_type": "markdown",
      "source": [
        "## 4.splitting data into training and testing"
      ],
      "metadata": {
        "nteract": {
          "transient": {
            "deleting": false
          }
        }
      }
    },
    {
      "cell_type": "markdown",
      "source": [
        "#### a.Importing train test split function"
      ],
      "metadata": {
        "nteract": {
          "transient": {
            "deleting": false
          }
        }
      }
    },
    {
      "cell_type": "code",
      "source": [
        "from sklearn.model_selection import train_test_split"
      ],
      "outputs": [],
      "execution_count": 21,
      "metadata": {
        "collapsed": false,
        "jupyter": {
          "source_hidden": false,
          "outputs_hidden": false
        },
        "nteract": {
          "transient": {
            "deleting": false
          }
        },
        "execution": {
          "iopub.status.busy": "2020-04-22T15:29:36.088Z",
          "iopub.execute_input": "2020-04-22T15:29:36.091Z",
          "iopub.status.idle": "2020-04-22T15:29:36.095Z",
          "shell.execute_reply": "2020-04-22T15:29:35.889Z"
        }
      }
    },
    {
      "cell_type": "markdown",
      "source": [
        "#### b.applying train test split function on data"
      ],
      "metadata": {
        "nteract": {
          "transient": {
            "deleting": false
          }
        }
      }
    },
    {
      "cell_type": "code",
      "source": [
        "x_train,x_test,y_train,y_test=train_test_split(x,y,test_size=0.2)"
      ],
      "outputs": [],
      "execution_count": 22,
      "metadata": {
        "collapsed": false,
        "jupyter": {
          "source_hidden": false,
          "outputs_hidden": false
        },
        "nteract": {
          "transient": {
            "deleting": false
          }
        },
        "execution": {
          "shell.execute_reply": "2020-04-22T15:29:35.892Z",
          "iopub.status.busy": "2020-04-22T15:29:36.099Z",
          "iopub.execute_input": "2020-04-22T15:29:36.102Z",
          "iopub.status.idle": "2020-04-22T15:29:36.106Z"
        }
      }
    },
    {
      "cell_type": "markdown",
      "source": [
        "## 5.Importing Machine Learning algorithm"
      ],
      "metadata": {
        "nteract": {
          "transient": {
            "deleting": false
          }
        }
      }
    },
    {
      "cell_type": "code",
      "source": [
        "from sklearn.linear_model import LinearRegression"
      ],
      "outputs": [],
      "execution_count": 23,
      "metadata": {
        "collapsed": false,
        "jupyter": {
          "source_hidden": false,
          "outputs_hidden": false
        },
        "nteract": {
          "transient": {
            "deleting": false
          }
        },
        "execution": {
          "iopub.status.busy": "2020-04-22T15:29:36.111Z",
          "iopub.execute_input": "2020-04-22T15:29:36.114Z",
          "iopub.status.idle": "2020-04-22T15:29:36.119Z",
          "shell.execute_reply": "2020-04-22T15:29:36.203Z"
        }
      }
    },
    {
      "cell_type": "markdown",
      "source": [
        "## 6.Training using machine learning"
      ],
      "metadata": {
        "nteract": {
          "transient": {
            "deleting": false
          }
        }
      }
    },
    {
      "cell_type": "markdown",
      "source": [
        "### a. calling ml algorithm to model variable"
      ],
      "metadata": {
        "nteract": {
          "transient": {
            "deleting": false
          }
        }
      }
    },
    {
      "cell_type": "code",
      "source": [
        "model=LinearRegression()"
      ],
      "outputs": [],
      "execution_count": 24,
      "metadata": {
        "collapsed": false,
        "jupyter": {
          "source_hidden": false,
          "outputs_hidden": false
        },
        "nteract": {
          "transient": {
            "deleting": false
          }
        },
        "execution": {
          "iopub.status.busy": "2020-04-22T15:29:36.124Z",
          "iopub.execute_input": "2020-04-22T15:29:36.127Z",
          "iopub.status.idle": "2020-04-22T15:29:36.132Z",
          "shell.execute_reply": "2020-04-22T15:29:36.207Z"
        }
      }
    },
    {
      "cell_type": "markdown",
      "source": [
        "### b. training ml algorithm "
      ],
      "metadata": {
        "nteract": {
          "transient": {
            "deleting": false
          }
        }
      }
    },
    {
      "cell_type": "code",
      "source": [
        "model.fit(x_train,y_train)"
      ],
      "outputs": [
        {
          "output_type": "execute_result",
          "execution_count": 25,
          "data": {
            "text/plain": [
              "LinearRegression(copy_X=True, fit_intercept=True, n_jobs=None, normalize=False)"
            ]
          },
          "metadata": {}
        }
      ],
      "execution_count": 25,
      "metadata": {
        "collapsed": false,
        "jupyter": {
          "source_hidden": false,
          "outputs_hidden": false
        },
        "nteract": {
          "transient": {
            "deleting": false
          }
        },
        "execution": {
          "iopub.status.busy": "2020-04-22T15:29:36.137Z",
          "iopub.execute_input": "2020-04-22T15:29:36.140Z",
          "iopub.status.idle": "2020-04-22T15:29:36.147Z",
          "shell.execute_reply": "2020-04-22T15:29:36.210Z"
        }
      }
    },
    {
      "cell_type": "markdown",
      "source": [
        "## 7.Making Predictions to test using test data"
      ],
      "metadata": {
        "nteract": {
          "transient": {
            "deleting": false
          }
        }
      }
    },
    {
      "cell_type": "code",
      "source": [
        "y_pred=model.predict(x_test)"
      ],
      "outputs": [],
      "execution_count": 26,
      "metadata": {
        "collapsed": false,
        "jupyter": {
          "source_hidden": false,
          "outputs_hidden": false
        },
        "nteract": {
          "transient": {
            "deleting": false
          }
        },
        "execution": {
          "iopub.status.busy": "2020-04-22T15:29:36.152Z",
          "iopub.execute_input": "2020-04-22T15:29:36.155Z",
          "iopub.status.idle": "2020-04-22T15:29:36.159Z",
          "shell.execute_reply": "2020-04-22T15:29:36.212Z"
        }
      }
    },
    {
      "cell_type": "markdown",
      "source": [
        "## 8.Comparing predictions with available original data "
      ],
      "metadata": {
        "nteract": {
          "transient": {
            "deleting": false
          }
        }
      }
    },
    {
      "cell_type": "code",
      "source": [
        "print('Predicted MaxTemp:',' '*10,'Original MaxTemp')\n",
        "for i in range(1,10):\n",
        "    print(round(y_pred[i]),' '*29,round(y_test[i]))"
      ],
      "outputs": [
        {
          "output_type": "stream",
          "name": "stdout",
          "text": [
            "Predicted MaxTemp:            Original MaxTemp\n",
            "30.0                               31.0\n",
            "33.0                               28.0\n",
            "26.0                               27.0\n",
            "12.0                               13.0\n",
            "31.0                               28.0\n",
            "31.0                               27.0\n",
            "27.0                               27.0\n",
            "29.0                               42.0\n",
            "23.0                               23.0\n"
          ]
        }
      ],
      "execution_count": 46,
      "metadata": {
        "collapsed": false,
        "jupyter": {
          "source_hidden": false,
          "outputs_hidden": false
        },
        "nteract": {
          "transient": {
            "deleting": false
          }
        },
        "execution": {
          "iopub.status.busy": "2020-04-22T15:37:15.466Z",
          "iopub.execute_input": "2020-04-22T15:37:15.470Z",
          "iopub.status.idle": "2020-04-22T15:37:15.481Z",
          "shell.execute_reply": "2020-04-22T15:37:15.486Z"
        }
      }
    },
    {
      "cell_type": "markdown",
      "source": [
        "## 9.Making new predictions with new input data "
      ],
      "metadata": {
        "nteract": {
          "transient": {
            "deleting": false
          }
        }
      }
    },
    {
      "cell_type": "code",
      "source": [
        "new_input=int(input(\"Enter value to input :\"))"
      ],
      "outputs": [],
      "execution_count": 47,
      "metadata": {
        "collapsed": false,
        "jupyter": {
          "source_hidden": false,
          "outputs_hidden": false
        },
        "nteract": {
          "transient": {
            "deleting": false
          }
        },
        "execution": {
          "iopub.status.busy": "2020-04-22T15:37:31.186Z",
          "iopub.execute_input": "2020-04-22T15:37:31.190Z",
          "iopub.status.idle": "2020-04-22T15:37:33.619Z",
          "shell.execute_reply": "2020-04-22T15:37:33.611Z"
        }
      }
    },
    {
      "cell_type": "code",
      "source": [
        "new_pred=model.predict([[new_input]])"
      ],
      "outputs": [],
      "execution_count": 48,
      "metadata": {
        "collapsed": false,
        "jupyter": {
          "source_hidden": false,
          "outputs_hidden": false
        },
        "nteract": {
          "transient": {
            "deleting": false
          }
        },
        "execution": {
          "iopub.status.busy": "2020-04-22T15:37:37.916Z",
          "iopub.execute_input": "2020-04-22T15:37:37.922Z",
          "iopub.status.idle": "2020-04-22T15:37:37.929Z",
          "shell.execute_reply": "2020-04-22T15:37:37.933Z"
        }
      }
    },
    {
      "cell_type": "code",
      "source": [
        "print(\" Max temperture of the area for a mintemp of {} is => {} \".format(new_input,round(new_pred[0])))"
      ],
      "outputs": [
        {
          "output_type": "stream",
          "name": "stdout",
          "text": [
            " Max temperture of the area for a mintemp of 25 is => 34.0 \n"
          ]
        }
      ],
      "execution_count": 57,
      "metadata": {
        "collapsed": false,
        "jupyter": {
          "source_hidden": false,
          "outputs_hidden": false
        },
        "nteract": {
          "transient": {
            "deleting": false
          }
        },
        "execution": {
          "iopub.status.busy": "2020-04-22T15:42:37.329Z",
          "iopub.execute_input": "2020-04-22T15:42:37.334Z",
          "iopub.status.idle": "2020-04-22T15:42:37.342Z",
          "shell.execute_reply": "2020-04-22T15:42:37.346Z"
        }
      }
    }
  ],
  "metadata": {
    "kernel_info": {
      "name": "python3"
    },
    "language_info": {
      "name": "python",
      "version": "3.7.4",
      "mimetype": "text/x-python",
      "codemirror_mode": {
        "name": "ipython",
        "version": 3
      },
      "pygments_lexer": "ipython3",
      "nbconvert_exporter": "python",
      "file_extension": ".py"
    },
    "kernelspec": {
      "argv": [
        "python",
        "-m",
        "ipykernel_launcher",
        "-f",
        "{connection_file}"
      ],
      "display_name": "Python 3",
      "language": "python",
      "name": "python3"
    },
    "nteract": {
      "version": "0.22.0"
    }
  },
  "nbformat": 4,
  "nbformat_minor": 0
}