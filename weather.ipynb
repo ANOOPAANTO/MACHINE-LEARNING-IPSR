{
  "cells": [
    {
      "cell_type": "code",
      "source": [
        "import numpy as np\n",
        "import pandas as pd\n",
        "from sklearn.linear_model import LinearRegression\n",
        "data=pd.read_csv(\"Weathertemp.csv\")\n",
        "data"
      ],
      "outputs": [
        {
          "output_type": "execute_result",
          "execution_count": 1,
          "data": {
            "text/plain": [
              "              Date    MaxTemp    MinTemp\n",
              "0         7/1/1942  25.555556  22.222222\n",
              "1         7/2/1942  28.888889  21.666667\n",
              "2         7/3/1942  26.111111  22.222222\n",
              "3         7/4/1942  26.666667  22.222222\n",
              "4         7/5/1942  26.666667  21.666667\n",
              "...            ...        ...        ...\n",
              "119035  12/27/1945  28.333333  18.333333\n",
              "119036  12/28/1945  29.444444  18.333333\n",
              "119037  12/29/1945  28.333333  18.333333\n",
              "119038  12/30/1945  28.333333  18.333333\n",
              "119039  12/31/1945  29.444444  17.222222\n",
              "\n",
              "[119040 rows x 3 columns]"
            ],
            "text/html": [
              "<div>\n",
              "<style scoped>\n",
              "    .dataframe tbody tr th:only-of-type {\n",
              "        vertical-align: middle;\n",
              "    }\n",
              "\n",
              "    .dataframe tbody tr th {\n",
              "        vertical-align: top;\n",
              "    }\n",
              "\n",
              "    .dataframe thead th {\n",
              "        text-align: right;\n",
              "    }\n",
              "</style>\n",
              "<table border=\"1\" class=\"dataframe\">\n",
              "  <thead>\n",
              "    <tr style=\"text-align: right;\">\n",
              "      <th></th>\n",
              "      <th>Date</th>\n",
              "      <th>MaxTemp</th>\n",
              "      <th>MinTemp</th>\n",
              "    </tr>\n",
              "  </thead>\n",
              "  <tbody>\n",
              "    <tr>\n",
              "      <th>0</th>\n",
              "      <td>7/1/1942</td>\n",
              "      <td>25.555556</td>\n",
              "      <td>22.222222</td>\n",
              "    </tr>\n",
              "    <tr>\n",
              "      <th>1</th>\n",
              "      <td>7/2/1942</td>\n",
              "      <td>28.888889</td>\n",
              "      <td>21.666667</td>\n",
              "    </tr>\n",
              "    <tr>\n",
              "      <th>2</th>\n",
              "      <td>7/3/1942</td>\n",
              "      <td>26.111111</td>\n",
              "      <td>22.222222</td>\n",
              "    </tr>\n",
              "    <tr>\n",
              "      <th>3</th>\n",
              "      <td>7/4/1942</td>\n",
              "      <td>26.666667</td>\n",
              "      <td>22.222222</td>\n",
              "    </tr>\n",
              "    <tr>\n",
              "      <th>4</th>\n",
              "      <td>7/5/1942</td>\n",
              "      <td>26.666667</td>\n",
              "      <td>21.666667</td>\n",
              "    </tr>\n",
              "    <tr>\n",
              "      <th>...</th>\n",
              "      <td>...</td>\n",
              "      <td>...</td>\n",
              "      <td>...</td>\n",
              "    </tr>\n",
              "    <tr>\n",
              "      <th>119035</th>\n",
              "      <td>12/27/1945</td>\n",
              "      <td>28.333333</td>\n",
              "      <td>18.333333</td>\n",
              "    </tr>\n",
              "    <tr>\n",
              "      <th>119036</th>\n",
              "      <td>12/28/1945</td>\n",
              "      <td>29.444444</td>\n",
              "      <td>18.333333</td>\n",
              "    </tr>\n",
              "    <tr>\n",
              "      <th>119037</th>\n",
              "      <td>12/29/1945</td>\n",
              "      <td>28.333333</td>\n",
              "      <td>18.333333</td>\n",
              "    </tr>\n",
              "    <tr>\n",
              "      <th>119038</th>\n",
              "      <td>12/30/1945</td>\n",
              "      <td>28.333333</td>\n",
              "      <td>18.333333</td>\n",
              "    </tr>\n",
              "    <tr>\n",
              "      <th>119039</th>\n",
              "      <td>12/31/1945</td>\n",
              "      <td>29.444444</td>\n",
              "      <td>17.222222</td>\n",
              "    </tr>\n",
              "  </tbody>\n",
              "</table>\n",
              "<p>119040 rows × 3 columns</p>\n",
              "</div>"
            ]
          },
          "metadata": {}
        }
      ],
      "execution_count": 1,
      "metadata": {
        "collapsed": false,
        "jupyter": {
          "source_hidden": false,
          "outputs_hidden": false
        },
        "nteract": {
          "transient": {
            "deleting": false
          }
        },
        "execution": {
          "iopub.status.busy": "2020-04-10T09:57:18.859Z",
          "iopub.execute_input": "2020-04-10T09:57:18.865Z",
          "iopub.status.idle": "2020-04-10T09:57:20.456Z",
          "shell.execute_reply": "2020-04-10T09:57:20.486Z"
        }
      }
    },
    {
      "cell_type": "code",
      "source": [
        "x=np.array(data['MinTemp']).reshape((-1,1))\n",
        "y=np.array(data['MaxTemp'])\n",
        "model=LinearRegression().fit(x,y)\n",
        "model2=LinearRegression().fit(x,y_max)\n",
        "r_sq=model.score(x,y)\n",
        "r_sq\n",
        "\n"
      ],
      "outputs": [
        {
          "output_type": "execute_result",
          "execution_count": 12,
          "data": {
            "text/plain": [
              "0.7715582862315506"
            ]
          },
          "metadata": {}
        }
      ],
      "execution_count": 12,
      "metadata": {
        "collapsed": false,
        "jupyter": {
          "source_hidden": false,
          "outputs_hidden": false
        },
        "nteract": {
          "transient": {
            "deleting": false
          }
        },
        "execution": {
          "iopub.status.busy": "2020-04-10T15:35:35.973Z",
          "iopub.execute_input": "2020-04-10T15:35:35.977Z",
          "iopub.status.idle": "2020-04-10T15:35:36.227Z",
          "shell.execute_reply": "2020-04-10T15:35:36.235Z"
        }
      }
    },
    {
      "cell_type": "code",
      "source": [
        "print('Intercept:',model.intercept_)\n",
        "print('Slope:',model.coef_)\n",
        "y_pred=model.predict(x)\n",
        "print('Predicted Maximum Temperature:',y_pred)\n",
        "print('Original Maximum Temperature:',y)"
      ],
      "outputs": [
        {
          "output_type": "stream",
          "name": "stdout",
          "text": [
            "Intercept: 10.70056703746171\n",
            "Slope: [0.91877423]\n",
            "Predicted Maximum Temperature: [31.11777216 30.60734204 31.11777216 ... 27.54476126 27.54476126\n",
            " 26.52390101]\n",
            "Original Maximum Temperature: [25.55555556 28.88888889 26.11111111 ... 28.33333333 28.33333333\n",
            " 29.44444444]\n"
          ]
        }
      ],
      "execution_count": 16,
      "metadata": {
        "collapsed": false,
        "jupyter": {
          "source_hidden": false,
          "outputs_hidden": false
        },
        "nteract": {
          "transient": {
            "deleting": false
          }
        },
        "execution": {
          "iopub.status.busy": "2020-04-10T15:38:37.097Z",
          "iopub.execute_input": "2020-04-10T15:38:37.099Z",
          "iopub.status.idle": "2020-04-10T15:38:37.104Z",
          "shell.execute_reply": "2020-04-10T15:38:37.116Z"
        }
      }
    }
  ],
  "metadata": {
    "kernel_info": {
      "name": "python3"
    },
    "language_info": {
      "name": "python",
      "version": "3.7.4",
      "mimetype": "text/x-python",
      "codemirror_mode": {
        "name": "ipython",
        "version": 3
      },
      "pygments_lexer": "ipython3",
      "nbconvert_exporter": "python",
      "file_extension": ".py"
    },
    "kernelspec": {
      "argv": [
        "python",
        "-m",
        "ipykernel_launcher",
        "-f",
        "{connection_file}"
      ],
      "display_name": "Python 3",
      "language": "python",
      "name": "python3"
    },
    "nteract": {
      "version": "0.22.0"
    }
  },
  "nbformat": 4,
  "nbformat_minor": 0
}